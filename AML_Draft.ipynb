{
  "nbformat": 4,
  "nbformat_minor": 0,
  "metadata": {
    "colab": {
      "provenance": []
    },
    "kernelspec": {
      "name": "python3",
      "display_name": "Python 3"
    },
    "language_info": {
      "name": "python"
    },
    "accelerator": "GPU",
    "gpuClass": "standard"
  },
  "cells": [
    {
      "cell_type": "code",
      "execution_count": null,
      "metadata": {
        "colab": {
          "base_uri": "https://localhost:8080/"
        },
        "id": "0IAlkuUdYvZS",
        "outputId": "ecddb18f-12db-4fc7-ba00-29cbbc388f31"
      },
      "outputs": [
        {
          "output_type": "stream",
          "name": "stdout",
          "text": [
            "Mounted at /content/drive\n"
          ]
        }
      ],
      "source": [
        "from google.colab import drive\n",
        "drive.mount('/content/drive')"
      ]
    },
    {
      "cell_type": "code",
      "source": [
        "!nvidia-smi"
      ],
      "metadata": {
        "colab": {
          "base_uri": "https://localhost:8080/"
        },
        "id": "H2xpH-VV6yCF",
        "outputId": "8d53befc-1644-40ec-99ff-e1f3501f996c"
      },
      "execution_count": null,
      "outputs": [
        {
          "output_type": "stream",
          "name": "stdout",
          "text": [
            "Mon Apr 10 14:41:35 2023       \n",
            "+-----------------------------------------------------------------------------+\n",
            "| NVIDIA-SMI 525.85.12    Driver Version: 525.85.12    CUDA Version: 12.0     |\n",
            "|-------------------------------+----------------------+----------------------+\n",
            "| GPU  Name        Persistence-M| Bus-Id        Disp.A | Volatile Uncorr. ECC |\n",
            "| Fan  Temp  Perf  Pwr:Usage/Cap|         Memory-Usage | GPU-Util  Compute M. |\n",
            "|                               |                      |               MIG M. |\n",
            "|===============================+======================+======================|\n",
            "|   0  Tesla T4            Off  | 00000000:00:04.0 Off |                    0 |\n",
            "| N/A   62C    P8    13W /  70W |      0MiB / 15360MiB |      0%      Default |\n",
            "|                               |                      |                  N/A |\n",
            "+-------------------------------+----------------------+----------------------+\n",
            "                                                                               \n",
            "+-----------------------------------------------------------------------------+\n",
            "| Processes:                                                                  |\n",
            "|  GPU   GI   CI        PID   Type   Process name                  GPU Memory |\n",
            "|        ID   ID                                                   Usage      |\n",
            "|=============================================================================|\n",
            "|  No running processes found                                                 |\n",
            "+-----------------------------------------------------------------------------+\n"
          ]
        }
      ]
    },
    {
      "cell_type": "code",
      "source": [
        "!pwd"
      ],
      "metadata": {
        "colab": {
          "base_uri": "https://localhost:8080/"
        },
        "id": "dFHrVKKmdNNY",
        "outputId": "27b2a69f-52de-45af-d455-a0b578c9c32f"
      },
      "execution_count": null,
      "outputs": [
        {
          "output_type": "stream",
          "name": "stdout",
          "text": [
            "/content\n"
          ]
        }
      ]
    },
    {
      "cell_type": "code",
      "source": [
        "import pandas as pd\n",
        "import numpy as np\n",
        "import seaborn as sns"
      ],
      "metadata": {
        "id": "V295F5iReB1A"
      },
      "execution_count": null,
      "outputs": []
    },
    {
      "cell_type": "code",
      "source": [
        "!unzip 'drive/MyDrive/paysim.zip' "
      ],
      "metadata": {
        "colab": {
          "base_uri": "https://localhost:8080/"
        },
        "id": "XJ5K-mHeft4J",
        "outputId": "1783d3b7-27bd-40ed-e646-b0d1aa876da8"
      },
      "execution_count": null,
      "outputs": [
        {
          "output_type": "stream",
          "name": "stdout",
          "text": [
            "Archive:  drive/MyDrive/paysim.zip\n",
            "  inflating: PS_20174392719_1491204439457_log.csv  \n"
          ]
        }
      ]
    },
    {
      "cell_type": "code",
      "source": [
        "df = pd.read_csv(\"PS_20174392719_1491204439457_log.csv\")"
      ],
      "metadata": {
        "id": "1YBYZjVLhLvt"
      },
      "execution_count": null,
      "outputs": []
    },
    {
      "cell_type": "code",
      "source": [
        "df.head()"
      ],
      "metadata": {
        "colab": {
          "base_uri": "https://localhost:8080/",
          "height": 270
        },
        "id": "5GYEznO3haD-",
        "outputId": "14f6d23f-3449-42f1-e943-91e016ecef21"
      },
      "execution_count": null,
      "outputs": [
        {
          "output_type": "execute_result",
          "data": {
            "text/plain": [
              "   step      type    amount     nameOrig  oldbalanceOrg  newbalanceOrig  \\\n",
              "0     1   PAYMENT   9839.64  C1231006815       170136.0       160296.36   \n",
              "1     1   PAYMENT   1864.28  C1666544295        21249.0        19384.72   \n",
              "2     1  TRANSFER    181.00  C1305486145          181.0            0.00   \n",
              "3     1  CASH_OUT    181.00   C840083671          181.0            0.00   \n",
              "4     1   PAYMENT  11668.14  C2048537720        41554.0        29885.86   \n",
              "\n",
              "      nameDest  oldbalanceDest  newbalanceDest  isFraud  isFlaggedFraud  \n",
              "0  M1979787155             0.0             0.0        0               0  \n",
              "1  M2044282225             0.0             0.0        0               0  \n",
              "2   C553264065             0.0             0.0        1               0  \n",
              "3    C38997010         21182.0             0.0        1               0  \n",
              "4  M1230701703             0.0             0.0        0               0  "
            ],
            "text/html": [
              "\n",
              "  <div id=\"df-408dc6fa-93ac-4c21-8fa8-a828a321127e\">\n",
              "    <div class=\"colab-df-container\">\n",
              "      <div>\n",
              "<style scoped>\n",
              "    .dataframe tbody tr th:only-of-type {\n",
              "        vertical-align: middle;\n",
              "    }\n",
              "\n",
              "    .dataframe tbody tr th {\n",
              "        vertical-align: top;\n",
              "    }\n",
              "\n",
              "    .dataframe thead th {\n",
              "        text-align: right;\n",
              "    }\n",
              "</style>\n",
              "<table border=\"1\" class=\"dataframe\">\n",
              "  <thead>\n",
              "    <tr style=\"text-align: right;\">\n",
              "      <th></th>\n",
              "      <th>step</th>\n",
              "      <th>type</th>\n",
              "      <th>amount</th>\n",
              "      <th>nameOrig</th>\n",
              "      <th>oldbalanceOrg</th>\n",
              "      <th>newbalanceOrig</th>\n",
              "      <th>nameDest</th>\n",
              "      <th>oldbalanceDest</th>\n",
              "      <th>newbalanceDest</th>\n",
              "      <th>isFraud</th>\n",
              "      <th>isFlaggedFraud</th>\n",
              "    </tr>\n",
              "  </thead>\n",
              "  <tbody>\n",
              "    <tr>\n",
              "      <th>0</th>\n",
              "      <td>1</td>\n",
              "      <td>PAYMENT</td>\n",
              "      <td>9839.64</td>\n",
              "      <td>C1231006815</td>\n",
              "      <td>170136.0</td>\n",
              "      <td>160296.36</td>\n",
              "      <td>M1979787155</td>\n",
              "      <td>0.0</td>\n",
              "      <td>0.0</td>\n",
              "      <td>0</td>\n",
              "      <td>0</td>\n",
              "    </tr>\n",
              "    <tr>\n",
              "      <th>1</th>\n",
              "      <td>1</td>\n",
              "      <td>PAYMENT</td>\n",
              "      <td>1864.28</td>\n",
              "      <td>C1666544295</td>\n",
              "      <td>21249.0</td>\n",
              "      <td>19384.72</td>\n",
              "      <td>M2044282225</td>\n",
              "      <td>0.0</td>\n",
              "      <td>0.0</td>\n",
              "      <td>0</td>\n",
              "      <td>0</td>\n",
              "    </tr>\n",
              "    <tr>\n",
              "      <th>2</th>\n",
              "      <td>1</td>\n",
              "      <td>TRANSFER</td>\n",
              "      <td>181.00</td>\n",
              "      <td>C1305486145</td>\n",
              "      <td>181.0</td>\n",
              "      <td>0.00</td>\n",
              "      <td>C553264065</td>\n",
              "      <td>0.0</td>\n",
              "      <td>0.0</td>\n",
              "      <td>1</td>\n",
              "      <td>0</td>\n",
              "    </tr>\n",
              "    <tr>\n",
              "      <th>3</th>\n",
              "      <td>1</td>\n",
              "      <td>CASH_OUT</td>\n",
              "      <td>181.00</td>\n",
              "      <td>C840083671</td>\n",
              "      <td>181.0</td>\n",
              "      <td>0.00</td>\n",
              "      <td>C38997010</td>\n",
              "      <td>21182.0</td>\n",
              "      <td>0.0</td>\n",
              "      <td>1</td>\n",
              "      <td>0</td>\n",
              "    </tr>\n",
              "    <tr>\n",
              "      <th>4</th>\n",
              "      <td>1</td>\n",
              "      <td>PAYMENT</td>\n",
              "      <td>11668.14</td>\n",
              "      <td>C2048537720</td>\n",
              "      <td>41554.0</td>\n",
              "      <td>29885.86</td>\n",
              "      <td>M1230701703</td>\n",
              "      <td>0.0</td>\n",
              "      <td>0.0</td>\n",
              "      <td>0</td>\n",
              "      <td>0</td>\n",
              "    </tr>\n",
              "  </tbody>\n",
              "</table>\n",
              "</div>\n",
              "      <button class=\"colab-df-convert\" onclick=\"convertToInteractive('df-408dc6fa-93ac-4c21-8fa8-a828a321127e')\"\n",
              "              title=\"Convert this dataframe to an interactive table.\"\n",
              "              style=\"display:none;\">\n",
              "        \n",
              "  <svg xmlns=\"http://www.w3.org/2000/svg\" height=\"24px\"viewBox=\"0 0 24 24\"\n",
              "       width=\"24px\">\n",
              "    <path d=\"M0 0h24v24H0V0z\" fill=\"none\"/>\n",
              "    <path d=\"M18.56 5.44l.94 2.06.94-2.06 2.06-.94-2.06-.94-.94-2.06-.94 2.06-2.06.94zm-11 1L8.5 8.5l.94-2.06 2.06-.94-2.06-.94L8.5 2.5l-.94 2.06-2.06.94zm10 10l.94 2.06.94-2.06 2.06-.94-2.06-.94-.94-2.06-.94 2.06-2.06.94z\"/><path d=\"M17.41 7.96l-1.37-1.37c-.4-.4-.92-.59-1.43-.59-.52 0-1.04.2-1.43.59L10.3 9.45l-7.72 7.72c-.78.78-.78 2.05 0 2.83L4 21.41c.39.39.9.59 1.41.59.51 0 1.02-.2 1.41-.59l7.78-7.78 2.81-2.81c.8-.78.8-2.07 0-2.86zM5.41 20L4 18.59l7.72-7.72 1.47 1.35L5.41 20z\"/>\n",
              "  </svg>\n",
              "      </button>\n",
              "      \n",
              "  <style>\n",
              "    .colab-df-container {\n",
              "      display:flex;\n",
              "      flex-wrap:wrap;\n",
              "      gap: 12px;\n",
              "    }\n",
              "\n",
              "    .colab-df-convert {\n",
              "      background-color: #E8F0FE;\n",
              "      border: none;\n",
              "      border-radius: 50%;\n",
              "      cursor: pointer;\n",
              "      display: none;\n",
              "      fill: #1967D2;\n",
              "      height: 32px;\n",
              "      padding: 0 0 0 0;\n",
              "      width: 32px;\n",
              "    }\n",
              "\n",
              "    .colab-df-convert:hover {\n",
              "      background-color: #E2EBFA;\n",
              "      box-shadow: 0px 1px 2px rgba(60, 64, 67, 0.3), 0px 1px 3px 1px rgba(60, 64, 67, 0.15);\n",
              "      fill: #174EA6;\n",
              "    }\n",
              "\n",
              "    [theme=dark] .colab-df-convert {\n",
              "      background-color: #3B4455;\n",
              "      fill: #D2E3FC;\n",
              "    }\n",
              "\n",
              "    [theme=dark] .colab-df-convert:hover {\n",
              "      background-color: #434B5C;\n",
              "      box-shadow: 0px 1px 3px 1px rgba(0, 0, 0, 0.15);\n",
              "      filter: drop-shadow(0px 1px 2px rgba(0, 0, 0, 0.3));\n",
              "      fill: #FFFFFF;\n",
              "    }\n",
              "  </style>\n",
              "\n",
              "      <script>\n",
              "        const buttonEl =\n",
              "          document.querySelector('#df-408dc6fa-93ac-4c21-8fa8-a828a321127e button.colab-df-convert');\n",
              "        buttonEl.style.display =\n",
              "          google.colab.kernel.accessAllowed ? 'block' : 'none';\n",
              "\n",
              "        async function convertToInteractive(key) {\n",
              "          const element = document.querySelector('#df-408dc6fa-93ac-4c21-8fa8-a828a321127e');\n",
              "          const dataTable =\n",
              "            await google.colab.kernel.invokeFunction('convertToInteractive',\n",
              "                                                     [key], {});\n",
              "          if (!dataTable) return;\n",
              "\n",
              "          const docLinkHtml = 'Like what you see? Visit the ' +\n",
              "            '<a target=\"_blank\" href=https://colab.research.google.com/notebooks/data_table.ipynb>data table notebook</a>'\n",
              "            + ' to learn more about interactive tables.';\n",
              "          element.innerHTML = '';\n",
              "          dataTable['output_type'] = 'display_data';\n",
              "          await google.colab.output.renderOutput(dataTable, element);\n",
              "          const docLink = document.createElement('div');\n",
              "          docLink.innerHTML = docLinkHtml;\n",
              "          element.appendChild(docLink);\n",
              "        }\n",
              "      </script>\n",
              "    </div>\n",
              "  </div>\n",
              "  "
            ]
          },
          "metadata": {},
          "execution_count": 6
        }
      ]
    },
    {
      "cell_type": "code",
      "source": [
        "df[df[\"isFraud\"]==1].amount.value_counts()"
      ],
      "metadata": {
        "colab": {
          "base_uri": "https://localhost:8080/"
        },
        "id": "8z-uDmRjbTEY",
        "outputId": "0e08bf13-2432-490f-bc64-796ba1184554"
      },
      "execution_count": null,
      "outputs": [
        {
          "output_type": "execute_result",
          "data": {
            "text/plain": [
              "10000000.00    287\n",
              "0.00            16\n",
              "1165187.89       4\n",
              "429257.45        4\n",
              "181.00           2\n",
              "              ... \n",
              "149668.66        1\n",
              "7316255.05       1\n",
              "222048.71        1\n",
              "9585040.37       1\n",
              "234377.29        1\n",
              "Name: amount, Length: 3977, dtype: int64"
            ]
          },
          "metadata": {},
          "execution_count": 6
        }
      ]
    },
    {
      "cell_type": "code",
      "source": [
        "df[df[\"isFraud\"]==1].amount.mean()"
      ],
      "metadata": {
        "colab": {
          "base_uri": "https://localhost:8080/"
        },
        "id": "Jf8RWz6kbe8K",
        "outputId": "247d17f4-8595-4ec8-a34e-6fa4af4c6143"
      },
      "execution_count": null,
      "outputs": [
        {
          "output_type": "execute_result",
          "data": {
            "text/plain": [
              "1467967.299140387"
            ]
          },
          "metadata": {},
          "execution_count": 7
        }
      ]
    },
    {
      "cell_type": "code",
      "source": [
        "#Let us investigate which transactions have the most fraud cases\n",
        "df[df[\"isFraud\"]==1].type.value_counts()"
      ],
      "metadata": {
        "colab": {
          "base_uri": "https://localhost:8080/"
        },
        "id": "TDhQKEdO7TZF",
        "outputId": "37621728-eb75-4ee6-e6c9-5eaa1d7cc089"
      },
      "execution_count": null,
      "outputs": [
        {
          "output_type": "execute_result",
          "data": {
            "text/plain": [
              "CASH_OUT    4116\n",
              "TRANSFER    4097\n",
              "Name: type, dtype: int64"
            ]
          },
          "metadata": {},
          "execution_count": 8
        }
      ]
    },
    {
      "cell_type": "markdown",
      "source": [
        "Only Cash out and transfers have fraud cases therefore a feature engineering is appropriate "
      ],
      "metadata": {
        "id": "xg8cbLQR6DX1"
      }
    },
    {
      "cell_type": "code",
      "source": [
        "df = df[df[\"type\"].isin([\"TRANSFER\",\"CASH_OUT\"])]"
      ],
      "metadata": {
        "id": "R8Mnx5UH68TD"
      },
      "execution_count": null,
      "outputs": []
    },
    {
      "cell_type": "code",
      "source": [
        "print(df.shape[0],df[df[\"isFraud\"]==1].shape[0])  "
      ],
      "metadata": {
        "colab": {
          "base_uri": "https://localhost:8080/"
        },
        "id": "sa4TzYge3srG",
        "outputId": "0c2f492e-a07f-40a7-8b18-7a0da5baf544"
      },
      "execution_count": null,
      "outputs": [
        {
          "output_type": "stream",
          "name": "stdout",
          "text": [
            "2770409 8213\n"
          ]
        }
      ]
    },
    {
      "cell_type": "code",
      "source": [
        "print(df.isFraud.value_counts()[1]/(df.isFraud.value_counts()[0]+df.isFraud.value_counts()[1])) #unbalanced"
      ],
      "metadata": {
        "colab": {
          "base_uri": "https://localhost:8080/"
        },
        "id": "BTLVZ3AYPtdI",
        "outputId": "8da4a1fb-567b-4a63-8a08-bf2f7cc3c026"
      },
      "execution_count": null,
      "outputs": [
        {
          "output_type": "stream",
          "name": "stdout",
          "text": [
            "0.002964544224336551\n"
          ]
        }
      ]
    },
    {
      "cell_type": "code",
      "source": [
        "print(round(df[df[\"isFraud\"]==1].groupby(\"nameDest\")[\"nameOrig\"].nunique().describe(),2))\n",
        "df[df[\"isFraud\"]==1][\"nameOrig\"].is_unique"
      ],
      "metadata": {
        "colab": {
          "base_uri": "https://localhost:8080/"
        },
        "id": "Rclj4Oh4QH44",
        "outputId": "d5697d8a-88dc-4c14-cec2-ac2a9f04f717"
      },
      "execution_count": null,
      "outputs": [
        {
          "output_type": "stream",
          "name": "stdout",
          "text": [
            "count    8169.00\n",
            "mean        1.01\n",
            "std         0.07\n",
            "min         1.00\n",
            "25%         1.00\n",
            "50%         1.00\n",
            "75%         1.00\n",
            "max         2.00\n",
            "Name: nameOrig, dtype: float64\n"
          ]
        },
        {
          "output_type": "execute_result",
          "data": {
            "text/plain": [
              "True"
            ]
          },
          "metadata": {},
          "execution_count": 12
        }
      ]
    },
    {
      "cell_type": "markdown",
      "source": [
        "Out of millions of transactions only a couple of thousands are flagged as fraud. The dataset is imbalanced and an oversampling must be conducted via SMOTE. However, a baseline needs to be established, in that context, the analysis will be conducted for starters without augmentation.\n",
        "\n",
        "Moreover, before training our random forest it would be wise to see which variables are providing information related to fraud\n",
        "\n",
        "There is one to one relationship between two transaction parties (mean = 1.0). Therefore, there are no repeated transaction between specific parties. As for the nameOrig, there is no repeated fraud from the same person (as the nameOrig has unique values when selecting fraud cases) and it makes sense as they are banned after being flagged as fraudsters. Therefore, they can be dropped "
      ],
      "metadata": {
        "id": "N55eXPp55EK3"
      }
    },
    {
      "cell_type": "code",
      "source": [
        "df.loc[df.type==\"CASH_OUT\",\"type\"]=1\n",
        "df.loc[df.type==\"TRANSFER\",\"type\"]=0"
      ],
      "metadata": {
        "id": "2PC1qTPoRDYY"
      },
      "execution_count": null,
      "outputs": []
    },
    {
      "cell_type": "code",
      "source": [
        "df_1 = df.copy()"
      ],
      "metadata": {
        "id": "EESjDwfZQmfK"
      },
      "execution_count": null,
      "outputs": []
    },
    {
      "cell_type": "code",
      "source": [
        "df_1.head()"
      ],
      "metadata": {
        "colab": {
          "base_uri": "https://localhost:8080/",
          "height": 270
        },
        "id": "a-pmLn8-c1S5",
        "outputId": "8af669c1-0f78-4d93-98ee-257caf2816ad"
      },
      "execution_count": null,
      "outputs": [
        {
          "output_type": "execute_result",
          "data": {
            "text/plain": [
              "    step type     amount     nameOrig  oldbalanceOrg  newbalanceOrig  \\\n",
              "2      1    0     181.00  C1305486145          181.0             0.0   \n",
              "3      1    1     181.00   C840083671          181.0             0.0   \n",
              "15     1    1  229133.94   C905080434        15325.0             0.0   \n",
              "19     1    0  215310.30  C1670993182          705.0             0.0   \n",
              "24     1    0  311685.89  C1984094095        10835.0             0.0   \n",
              "\n",
              "       nameDest  oldbalanceDest  newbalanceDest  isFraud  isFlaggedFraud  \n",
              "2    C553264065             0.0            0.00        1               0  \n",
              "3     C38997010         21182.0            0.00        1               0  \n",
              "15   C476402209          5083.0        51513.44        0               0  \n",
              "19  C1100439041         22425.0            0.00        0               0  \n",
              "24   C932583850          6267.0      2719172.89        0               0  "
            ],
            "text/html": [
              "\n",
              "  <div id=\"df-4effed15-e3b3-4dcf-a137-dfe446828a13\">\n",
              "    <div class=\"colab-df-container\">\n",
              "      <div>\n",
              "<style scoped>\n",
              "    .dataframe tbody tr th:only-of-type {\n",
              "        vertical-align: middle;\n",
              "    }\n",
              "\n",
              "    .dataframe tbody tr th {\n",
              "        vertical-align: top;\n",
              "    }\n",
              "\n",
              "    .dataframe thead th {\n",
              "        text-align: right;\n",
              "    }\n",
              "</style>\n",
              "<table border=\"1\" class=\"dataframe\">\n",
              "  <thead>\n",
              "    <tr style=\"text-align: right;\">\n",
              "      <th></th>\n",
              "      <th>step</th>\n",
              "      <th>type</th>\n",
              "      <th>amount</th>\n",
              "      <th>nameOrig</th>\n",
              "      <th>oldbalanceOrg</th>\n",
              "      <th>newbalanceOrig</th>\n",
              "      <th>nameDest</th>\n",
              "      <th>oldbalanceDest</th>\n",
              "      <th>newbalanceDest</th>\n",
              "      <th>isFraud</th>\n",
              "      <th>isFlaggedFraud</th>\n",
              "    </tr>\n",
              "  </thead>\n",
              "  <tbody>\n",
              "    <tr>\n",
              "      <th>2</th>\n",
              "      <td>1</td>\n",
              "      <td>0</td>\n",
              "      <td>181.00</td>\n",
              "      <td>C1305486145</td>\n",
              "      <td>181.0</td>\n",
              "      <td>0.0</td>\n",
              "      <td>C553264065</td>\n",
              "      <td>0.0</td>\n",
              "      <td>0.00</td>\n",
              "      <td>1</td>\n",
              "      <td>0</td>\n",
              "    </tr>\n",
              "    <tr>\n",
              "      <th>3</th>\n",
              "      <td>1</td>\n",
              "      <td>1</td>\n",
              "      <td>181.00</td>\n",
              "      <td>C840083671</td>\n",
              "      <td>181.0</td>\n",
              "      <td>0.0</td>\n",
              "      <td>C38997010</td>\n",
              "      <td>21182.0</td>\n",
              "      <td>0.00</td>\n",
              "      <td>1</td>\n",
              "      <td>0</td>\n",
              "    </tr>\n",
              "    <tr>\n",
              "      <th>15</th>\n",
              "      <td>1</td>\n",
              "      <td>1</td>\n",
              "      <td>229133.94</td>\n",
              "      <td>C905080434</td>\n",
              "      <td>15325.0</td>\n",
              "      <td>0.0</td>\n",
              "      <td>C476402209</td>\n",
              "      <td>5083.0</td>\n",
              "      <td>51513.44</td>\n",
              "      <td>0</td>\n",
              "      <td>0</td>\n",
              "    </tr>\n",
              "    <tr>\n",
              "      <th>19</th>\n",
              "      <td>1</td>\n",
              "      <td>0</td>\n",
              "      <td>215310.30</td>\n",
              "      <td>C1670993182</td>\n",
              "      <td>705.0</td>\n",
              "      <td>0.0</td>\n",
              "      <td>C1100439041</td>\n",
              "      <td>22425.0</td>\n",
              "      <td>0.00</td>\n",
              "      <td>0</td>\n",
              "      <td>0</td>\n",
              "    </tr>\n",
              "    <tr>\n",
              "      <th>24</th>\n",
              "      <td>1</td>\n",
              "      <td>0</td>\n",
              "      <td>311685.89</td>\n",
              "      <td>C1984094095</td>\n",
              "      <td>10835.0</td>\n",
              "      <td>0.0</td>\n",
              "      <td>C932583850</td>\n",
              "      <td>6267.0</td>\n",
              "      <td>2719172.89</td>\n",
              "      <td>0</td>\n",
              "      <td>0</td>\n",
              "    </tr>\n",
              "  </tbody>\n",
              "</table>\n",
              "</div>\n",
              "      <button class=\"colab-df-convert\" onclick=\"convertToInteractive('df-4effed15-e3b3-4dcf-a137-dfe446828a13')\"\n",
              "              title=\"Convert this dataframe to an interactive table.\"\n",
              "              style=\"display:none;\">\n",
              "        \n",
              "  <svg xmlns=\"http://www.w3.org/2000/svg\" height=\"24px\"viewBox=\"0 0 24 24\"\n",
              "       width=\"24px\">\n",
              "    <path d=\"M0 0h24v24H0V0z\" fill=\"none\"/>\n",
              "    <path d=\"M18.56 5.44l.94 2.06.94-2.06 2.06-.94-2.06-.94-.94-2.06-.94 2.06-2.06.94zm-11 1L8.5 8.5l.94-2.06 2.06-.94-2.06-.94L8.5 2.5l-.94 2.06-2.06.94zm10 10l.94 2.06.94-2.06 2.06-.94-2.06-.94-.94-2.06-.94 2.06-2.06.94z\"/><path d=\"M17.41 7.96l-1.37-1.37c-.4-.4-.92-.59-1.43-.59-.52 0-1.04.2-1.43.59L10.3 9.45l-7.72 7.72c-.78.78-.78 2.05 0 2.83L4 21.41c.39.39.9.59 1.41.59.51 0 1.02-.2 1.41-.59l7.78-7.78 2.81-2.81c.8-.78.8-2.07 0-2.86zM5.41 20L4 18.59l7.72-7.72 1.47 1.35L5.41 20z\"/>\n",
              "  </svg>\n",
              "      </button>\n",
              "      \n",
              "  <style>\n",
              "    .colab-df-container {\n",
              "      display:flex;\n",
              "      flex-wrap:wrap;\n",
              "      gap: 12px;\n",
              "    }\n",
              "\n",
              "    .colab-df-convert {\n",
              "      background-color: #E8F0FE;\n",
              "      border: none;\n",
              "      border-radius: 50%;\n",
              "      cursor: pointer;\n",
              "      display: none;\n",
              "      fill: #1967D2;\n",
              "      height: 32px;\n",
              "      padding: 0 0 0 0;\n",
              "      width: 32px;\n",
              "    }\n",
              "\n",
              "    .colab-df-convert:hover {\n",
              "      background-color: #E2EBFA;\n",
              "      box-shadow: 0px 1px 2px rgba(60, 64, 67, 0.3), 0px 1px 3px 1px rgba(60, 64, 67, 0.15);\n",
              "      fill: #174EA6;\n",
              "    }\n",
              "\n",
              "    [theme=dark] .colab-df-convert {\n",
              "      background-color: #3B4455;\n",
              "      fill: #D2E3FC;\n",
              "    }\n",
              "\n",
              "    [theme=dark] .colab-df-convert:hover {\n",
              "      background-color: #434B5C;\n",
              "      box-shadow: 0px 1px 3px 1px rgba(0, 0, 0, 0.15);\n",
              "      filter: drop-shadow(0px 1px 2px rgba(0, 0, 0, 0.3));\n",
              "      fill: #FFFFFF;\n",
              "    }\n",
              "  </style>\n",
              "\n",
              "      <script>\n",
              "        const buttonEl =\n",
              "          document.querySelector('#df-4effed15-e3b3-4dcf-a137-dfe446828a13 button.colab-df-convert');\n",
              "        buttonEl.style.display =\n",
              "          google.colab.kernel.accessAllowed ? 'block' : 'none';\n",
              "\n",
              "        async function convertToInteractive(key) {\n",
              "          const element = document.querySelector('#df-4effed15-e3b3-4dcf-a137-dfe446828a13');\n",
              "          const dataTable =\n",
              "            await google.colab.kernel.invokeFunction('convertToInteractive',\n",
              "                                                     [key], {});\n",
              "          if (!dataTable) return;\n",
              "\n",
              "          const docLinkHtml = 'Like what you see? Visit the ' +\n",
              "            '<a target=\"_blank\" href=https://colab.research.google.com/notebooks/data_table.ipynb>data table notebook</a>'\n",
              "            + ' to learn more about interactive tables.';\n",
              "          element.innerHTML = '';\n",
              "          dataTable['output_type'] = 'display_data';\n",
              "          await google.colab.output.renderOutput(dataTable, element);\n",
              "          const docLink = document.createElement('div');\n",
              "          docLink.innerHTML = docLinkHtml;\n",
              "          element.appendChild(docLink);\n",
              "        }\n",
              "      </script>\n",
              "    </div>\n",
              "  </div>\n",
              "  "
            ]
          },
          "metadata": {},
          "execution_count": 10
        }
      ]
    },
    {
      "cell_type": "code",
      "source": [
        "df_1.drop([\"isFlaggedFraud\",\"nameOrig\",\"nameDest\"],axis=1,inplace=True)"
      ],
      "metadata": {
        "id": "PloJZTWsS4y1"
      },
      "execution_count": null,
      "outputs": []
    },
    {
      "cell_type": "code",
      "source": [
        "y_init = df_1[\"isFraud\"]\n",
        "x_init = df_1.copy()"
      ],
      "metadata": {
        "id": "HZzLB2KRTff9"
      },
      "execution_count": null,
      "outputs": []
    },
    {
      "cell_type": "code",
      "source": [
        "x_init.drop([\"isFraud\"],axis=1,inplace=True)"
      ],
      "metadata": {
        "id": "cPwwpVKHc7jR"
      },
      "execution_count": null,
      "outputs": []
    },
    {
      "cell_type": "code",
      "source": [
        "y_without_norm = y_init.copy()"
      ],
      "metadata": {
        "id": "2_Aka1PhhsET"
      },
      "execution_count": null,
      "outputs": []
    },
    {
      "cell_type": "code",
      "source": [
        "x_without_norm = x_init.copy()"
      ],
      "metadata": {
        "id": "-Kr-HSTiiSNJ"
      },
      "execution_count": null,
      "outputs": []
    },
    {
      "cell_type": "code",
      "source": [
        "cols = x_init.columns\n",
        "for i in range(x_init.shape[1]):\n",
        "  x_init[cols[i]]=(x_init[cols[i]]-x_init[cols[i]].mean())/x_init[cols[i]].std()"
      ],
      "metadata": {
        "id": "CpYj5V2iSnps"
      },
      "execution_count": null,
      "outputs": []
    },
    {
      "cell_type": "code",
      "source": [
        "x_init.head()"
      ],
      "metadata": {
        "colab": {
          "base_uri": "https://localhost:8080/",
          "height": 270
        },
        "id": "HdWCAytQdfR4",
        "outputId": "32611c8d-7cfe-42e2-f4a5-26036c3764a3"
      },
      "execution_count": null,
      "outputs": [
        {
          "output_type": "execute_result",
          "data": {
            "text/plain": [
              "        step      type    amount  oldbalanceOrg  newbalanceOrig  \\\n",
              "2  -1.701804 -2.049061 -0.357467      -0.188847       -0.106389   \n",
              "3  -1.701804  0.488028 -0.357467      -0.188847       -0.106389   \n",
              "15 -1.701804  0.488028 -0.099576      -0.128591       -0.106389   \n",
              "19 -1.701804 -2.049061 -0.115146      -0.186762       -0.106389   \n",
              "24 -1.701804 -2.049061 -0.006590      -0.146456       -0.106389   \n",
              "\n",
              "    oldbalanceDest  newbalanceDest  \n",
              "2        -0.403155       -0.438259  \n",
              "3        -0.398142       -0.438259  \n",
              "15       -0.401952       -0.427245  \n",
              "19       -0.397848       -0.438259  \n",
              "24       -0.401672        0.143134  "
            ],
            "text/html": [
              "\n",
              "  <div id=\"df-c8149b1b-bc0f-4f3c-a51b-23cebb0cafbc\">\n",
              "    <div class=\"colab-df-container\">\n",
              "      <div>\n",
              "<style scoped>\n",
              "    .dataframe tbody tr th:only-of-type {\n",
              "        vertical-align: middle;\n",
              "    }\n",
              "\n",
              "    .dataframe tbody tr th {\n",
              "        vertical-align: top;\n",
              "    }\n",
              "\n",
              "    .dataframe thead th {\n",
              "        text-align: right;\n",
              "    }\n",
              "</style>\n",
              "<table border=\"1\" class=\"dataframe\">\n",
              "  <thead>\n",
              "    <tr style=\"text-align: right;\">\n",
              "      <th></th>\n",
              "      <th>step</th>\n",
              "      <th>type</th>\n",
              "      <th>amount</th>\n",
              "      <th>oldbalanceOrg</th>\n",
              "      <th>newbalanceOrig</th>\n",
              "      <th>oldbalanceDest</th>\n",
              "      <th>newbalanceDest</th>\n",
              "    </tr>\n",
              "  </thead>\n",
              "  <tbody>\n",
              "    <tr>\n",
              "      <th>2</th>\n",
              "      <td>-1.701804</td>\n",
              "      <td>-2.049061</td>\n",
              "      <td>-0.357467</td>\n",
              "      <td>-0.188847</td>\n",
              "      <td>-0.106389</td>\n",
              "      <td>-0.403155</td>\n",
              "      <td>-0.438259</td>\n",
              "    </tr>\n",
              "    <tr>\n",
              "      <th>3</th>\n",
              "      <td>-1.701804</td>\n",
              "      <td>0.488028</td>\n",
              "      <td>-0.357467</td>\n",
              "      <td>-0.188847</td>\n",
              "      <td>-0.106389</td>\n",
              "      <td>-0.398142</td>\n",
              "      <td>-0.438259</td>\n",
              "    </tr>\n",
              "    <tr>\n",
              "      <th>15</th>\n",
              "      <td>-1.701804</td>\n",
              "      <td>0.488028</td>\n",
              "      <td>-0.099576</td>\n",
              "      <td>-0.128591</td>\n",
              "      <td>-0.106389</td>\n",
              "      <td>-0.401952</td>\n",
              "      <td>-0.427245</td>\n",
              "    </tr>\n",
              "    <tr>\n",
              "      <th>19</th>\n",
              "      <td>-1.701804</td>\n",
              "      <td>-2.049061</td>\n",
              "      <td>-0.115146</td>\n",
              "      <td>-0.186762</td>\n",
              "      <td>-0.106389</td>\n",
              "      <td>-0.397848</td>\n",
              "      <td>-0.438259</td>\n",
              "    </tr>\n",
              "    <tr>\n",
              "      <th>24</th>\n",
              "      <td>-1.701804</td>\n",
              "      <td>-2.049061</td>\n",
              "      <td>-0.006590</td>\n",
              "      <td>-0.146456</td>\n",
              "      <td>-0.106389</td>\n",
              "      <td>-0.401672</td>\n",
              "      <td>0.143134</td>\n",
              "    </tr>\n",
              "  </tbody>\n",
              "</table>\n",
              "</div>\n",
              "      <button class=\"colab-df-convert\" onclick=\"convertToInteractive('df-c8149b1b-bc0f-4f3c-a51b-23cebb0cafbc')\"\n",
              "              title=\"Convert this dataframe to an interactive table.\"\n",
              "              style=\"display:none;\">\n",
              "        \n",
              "  <svg xmlns=\"http://www.w3.org/2000/svg\" height=\"24px\"viewBox=\"0 0 24 24\"\n",
              "       width=\"24px\">\n",
              "    <path d=\"M0 0h24v24H0V0z\" fill=\"none\"/>\n",
              "    <path d=\"M18.56 5.44l.94 2.06.94-2.06 2.06-.94-2.06-.94-.94-2.06-.94 2.06-2.06.94zm-11 1L8.5 8.5l.94-2.06 2.06-.94-2.06-.94L8.5 2.5l-.94 2.06-2.06.94zm10 10l.94 2.06.94-2.06 2.06-.94-2.06-.94-.94-2.06-.94 2.06-2.06.94z\"/><path d=\"M17.41 7.96l-1.37-1.37c-.4-.4-.92-.59-1.43-.59-.52 0-1.04.2-1.43.59L10.3 9.45l-7.72 7.72c-.78.78-.78 2.05 0 2.83L4 21.41c.39.39.9.59 1.41.59.51 0 1.02-.2 1.41-.59l7.78-7.78 2.81-2.81c.8-.78.8-2.07 0-2.86zM5.41 20L4 18.59l7.72-7.72 1.47 1.35L5.41 20z\"/>\n",
              "  </svg>\n",
              "      </button>\n",
              "      \n",
              "  <style>\n",
              "    .colab-df-container {\n",
              "      display:flex;\n",
              "      flex-wrap:wrap;\n",
              "      gap: 12px;\n",
              "    }\n",
              "\n",
              "    .colab-df-convert {\n",
              "      background-color: #E8F0FE;\n",
              "      border: none;\n",
              "      border-radius: 50%;\n",
              "      cursor: pointer;\n",
              "      display: none;\n",
              "      fill: #1967D2;\n",
              "      height: 32px;\n",
              "      padding: 0 0 0 0;\n",
              "      width: 32px;\n",
              "    }\n",
              "\n",
              "    .colab-df-convert:hover {\n",
              "      background-color: #E2EBFA;\n",
              "      box-shadow: 0px 1px 2px rgba(60, 64, 67, 0.3), 0px 1px 3px 1px rgba(60, 64, 67, 0.15);\n",
              "      fill: #174EA6;\n",
              "    }\n",
              "\n",
              "    [theme=dark] .colab-df-convert {\n",
              "      background-color: #3B4455;\n",
              "      fill: #D2E3FC;\n",
              "    }\n",
              "\n",
              "    [theme=dark] .colab-df-convert:hover {\n",
              "      background-color: #434B5C;\n",
              "      box-shadow: 0px 1px 3px 1px rgba(0, 0, 0, 0.15);\n",
              "      filter: drop-shadow(0px 1px 2px rgba(0, 0, 0, 0.3));\n",
              "      fill: #FFFFFF;\n",
              "    }\n",
              "  </style>\n",
              "\n",
              "      <script>\n",
              "        const buttonEl =\n",
              "          document.querySelector('#df-c8149b1b-bc0f-4f3c-a51b-23cebb0cafbc button.colab-df-convert');\n",
              "        buttonEl.style.display =\n",
              "          google.colab.kernel.accessAllowed ? 'block' : 'none';\n",
              "\n",
              "        async function convertToInteractive(key) {\n",
              "          const element = document.querySelector('#df-c8149b1b-bc0f-4f3c-a51b-23cebb0cafbc');\n",
              "          const dataTable =\n",
              "            await google.colab.kernel.invokeFunction('convertToInteractive',\n",
              "                                                     [key], {});\n",
              "          if (!dataTable) return;\n",
              "\n",
              "          const docLinkHtml = 'Like what you see? Visit the ' +\n",
              "            '<a target=\"_blank\" href=https://colab.research.google.com/notebooks/data_table.ipynb>data table notebook</a>'\n",
              "            + ' to learn more about interactive tables.';\n",
              "          element.innerHTML = '';\n",
              "          dataTable['output_type'] = 'display_data';\n",
              "          await google.colab.output.renderOutput(dataTable, element);\n",
              "          const docLink = document.createElement('div');\n",
              "          docLink.innerHTML = docLinkHtml;\n",
              "          element.appendChild(docLink);\n",
              "        }\n",
              "      </script>\n",
              "    </div>\n",
              "  </div>\n",
              "  "
            ]
          },
          "metadata": {},
          "execution_count": 22
        }
      ]
    },
    {
      "cell_type": "code",
      "source": [
        "x_init = np.array(x_init).astype('float32')\n",
        "y_init = np.array(y_init).astype('float32').reshape((-1,1))"
      ],
      "metadata": {
        "id": "23lPp9SV8B6A"
      },
      "execution_count": null,
      "outputs": []
    },
    {
      "cell_type": "code",
      "source": [
        "from imblearn.over_sampling import SMOTE\n",
        "# resample data ONLY using training data\n",
        "X_resampled, Y_resampled = SMOTE().fit_resample(x_init, y_init) \n",
        "\n",
        "# view synthetic sample class distribution\n",
        "print(pd.Series(Y_resampled).value_counts()) "
      ],
      "metadata": {
        "colab": {
          "base_uri": "https://localhost:8080/"
        },
        "id": "jx4SpCwUbtYl",
        "outputId": "f935af48-071c-48d2-b35f-4832aa11e08f"
      },
      "execution_count": null,
      "outputs": [
        {
          "output_type": "stream",
          "name": "stdout",
          "text": [
            "1.0    2762196\n",
            "0.0    2762196\n",
            "dtype: int64\n"
          ]
        }
      ]
    },
    {
      "cell_type": "code",
      "source": [
        "from sklearn.model_selection import train_test_split\n",
        "X_train, X_test, y_train, y_test = train_test_split(X_resampled, Y_resampled, random_state=0)"
      ],
      "metadata": {
        "id": "si4wiR4De-ZS"
      },
      "execution_count": null,
      "outputs": []
    },
    {
      "cell_type": "code",
      "source": [
        "import tensorflow as tf\n",
        "from sklearn.ensemble import RandomForestClassifier #import RandomForestClassifier\n",
        "from sklearn.metrics import classification_report, accuracy_score, roc_auc_score, confusion_matrix # import accuracy metrics"
      ],
      "metadata": {
        "id": "oNhv-j-lE9tn"
      },
      "execution_count": null,
      "outputs": []
    },
    {
      "cell_type": "code",
      "source": [
        "def run_model(model, X_train, y_train,X_test, y_test ):\n",
        "    model.fit(X_train, y_train)\n",
        "\n",
        "    # predict\n",
        "    train_preds = model.predict(X_train)\n",
        "    test_preds = model.predict(X_test)\n",
        "\n",
        "    # evaluate\n",
        "    train_accuracy = roc_auc_score(y_train, train_preds)\n",
        "    test_accuracy = roc_auc_score(y_test, test_preds)\n",
        "    report = classification_report(y_test, test_preds)\n",
        "    matrix = confusion_matrix(y_test, test_preds)\n",
        "\n",
        "    #print reports of the model accuracy\n",
        "    print('Model Scores')\n",
        "    print(\"------------------------\")\n",
        "    print(f\"Training Accuracy: {(train_accuracy * 100):.4}%\")\n",
        "    print(f\"Test Accuracy:     {(test_accuracy * 100):.4}%\")\n",
        "    print(\"------------------------------------------------------\")\n",
        "    print('Classification Report : \\n', report)\n",
        "    print(\"                           \")\n",
        "    print(\"Confusion Matrix : \\n\", matrix)"
      ],
      "metadata": {
        "id": "-XybQILJ8kIn"
      },
      "execution_count": null,
      "outputs": []
    },
    {
      "cell_type": "code",
      "source": [
        "rf_model=RandomForestClassifier(n_estimators=100, \n",
        "                                  criterion= 'gini', \n",
        "                                  max_depth= 10, \n",
        "                                  min_samples_split= 3)"
      ],
      "metadata": {
        "id": "jM9aflUGDx7F"
      },
      "execution_count": null,
      "outputs": []
    },
    {
      "cell_type": "code",
      "source": [
        "X_init_train, X_init_test, y_init_train, y_init_test = train_test_split(x_init, y_init, random_state=0)"
      ],
      "metadata": {
        "id": "iZ2mmrsbD32y"
      },
      "execution_count": null,
      "outputs": []
    },
    {
      "cell_type": "code",
      "source": [
        "print(len(X_init_train),len(X_train))\n"
      ],
      "metadata": {
        "colab": {
          "base_uri": "https://localhost:8080/"
        },
        "id": "aZWcbn7WFNE0",
        "outputId": "582b01ef-aab9-4147-dfde-9953612d777f"
      },
      "execution_count": null,
      "outputs": [
        {
          "output_type": "stream",
          "name": "stdout",
          "text": [
            "2077806 4143294\n"
          ]
        }
      ]
    },
    {
      "cell_type": "code",
      "source": [
        "run_model(rf_model, X_init_train, y_init_train,X_init_test, y_init_test) #without augmentation"
      ],
      "metadata": {
        "colab": {
          "base_uri": "https://localhost:8080/"
        },
        "id": "JgT9_l67FFg3",
        "outputId": "0cfd5dd0-0c85-47a0-e84a-e9ed0cd35185"
      },
      "execution_count": null,
      "outputs": [
        {
          "output_type": "stream",
          "name": "stderr",
          "text": [
            "<ipython-input-28-0c2dd4b15bb2>:2: DataConversionWarning: A column-vector y was passed when a 1d array was expected. Please change the shape of y to (n_samples,), for example using ravel().\n",
            "  model.fit(X_train, y_train)\n"
          ]
        },
        {
          "output_type": "stream",
          "name": "stdout",
          "text": [
            "Model Scores\n",
            "------------------------\n",
            "Training Accuracy: 85.27%\n",
            "Test Accuracy:     85.71%\n",
            "------------------------------------------------------\n",
            "Classification Report : \n",
            "               precision    recall  f1-score   support\n",
            "\n",
            "         0.0       1.00      1.00      1.00    690532\n",
            "         1.0       0.99      0.71      0.83      2071\n",
            "\n",
            "    accuracy                           1.00    692603\n",
            "   macro avg       1.00      0.86      0.92    692603\n",
            "weighted avg       1.00      1.00      1.00    692603\n",
            "\n",
            "                           \n",
            "Confusion Matrix : \n",
            " [[690524      8]\n",
            " [   592   1479]]\n"
          ]
        }
      ]
    },
    {
      "cell_type": "code",
      "source": [
        "run_model(rf_model, X_train, y_train,X_test, y_test) #this augmentation"
      ],
      "metadata": {
        "colab": {
          "base_uri": "https://localhost:8080/"
        },
        "id": "A7W2vh3h8bFE",
        "outputId": "32c7e092-3e51-4290-dd7e-fe0a52d18031"
      },
      "execution_count": null,
      "outputs": [
        {
          "output_type": "stream",
          "name": "stdout",
          "text": [
            "Model Scores\n",
            "------------------------\n",
            "Training Accuracy: 98.23%\n",
            "Test Accuracy:     98.21%\n",
            "------------------------------------------------------\n",
            "Classification Report : \n",
            "               precision    recall  f1-score   support\n",
            "\n",
            "         0.0       0.98      0.98      0.98    691297\n",
            "         1.0       0.98      0.98      0.98    689801\n",
            "\n",
            "    accuracy                           0.98   1381098\n",
            "   macro avg       0.98      0.98      0.98   1381098\n",
            "weighted avg       0.98      0.98      0.98   1381098\n",
            "\n",
            "                           \n",
            "Confusion Matrix : \n",
            " [[678310  12987]\n",
            " [ 11720 678081]]\n"
          ]
        }
      ]
    },
    {
      "cell_type": "code",
      "source": [
        "import numpy as np\n",
        "import pandas as pd\n",
        "import matplotlib.pyplot as plt\n",
        "import keras\n",
        "import tensorflow as tf\n",
        "from tensorflow.keras.utils import to_categorical\n",
        "from tensorflow.keras import models, layers, optimizers, losses, metrics\n",
        "from tensorflow.keras import regularizers\n",
        "from imblearn.over_sampling import SMOTE\n",
        "\n"
      ],
      "metadata": {
        "id": "dNT7RdF4rmgj"
      },
      "execution_count": null,
      "outputs": []
    },
    {
      "cell_type": "code",
      "source": [
        "def DenseLearning(dense_units=[128,64], \n",
        "                  dropout=[0.0,0.0,0.0,0.0,0.0,0.0,0.0,0.0,0.0],\n",
        "                  act=\"relu\",\n",
        "                  l=\"binary_crossentropy\",\n",
        "                  opt=\"rmsprop\",\n",
        "                  met=\"accuracy\",\n",
        "                  reg=0.00,\n",
        "                  learning_rate=.001):\n",
        "  '''\n",
        "  By default we have 3 layer perceptron without dropout, but those parameters \n",
        "  can be changed through the function. This function works for any number of \n",
        "  perceptrons, output: model\n",
        "  '''\n",
        "  reg = regularizers.l2(reg)\n",
        "  dense_units = np.array(dense_units)\n",
        "  dropout=np.array(dropout)\n",
        "\n",
        "  model = models.Sequential()\n",
        "  if dense_units[0]!=0:\n",
        "    for i in range(dense_units.shape[0]):\n",
        "      \n",
        "      model.add(layers.Dense(units = dense_units[i], activation=act, \n",
        "                            input_shape=(7,),\n",
        "                             kernel_regularizer=reg))\n",
        "      if dropout[i] !=0:\n",
        "        model.add(layers.Dropout(rate = dropout[i]))\n",
        "      \n",
        "    \n",
        "  opt=optimizers.Adam(learning_rate=learning_rate)\n",
        "\n",
        "  model.add(layers.Dense(units = 1, activation='sigmoid'))\n",
        "  model.compile(\n",
        "    loss=l,\n",
        "    optimizer=opt,\n",
        "    metrics=[met])\n",
        "   \n",
        "  return model"
      ],
      "metadata": {
        "id": "HhhKeITcts-S"
      },
      "execution_count": null,
      "outputs": []
    },
    {
      "cell_type": "code",
      "source": [
        "def training(model,\n",
        "             train_images,\n",
        "             train_labels,\n",
        "             epochs=10,\n",
        "             batch_size=128,\n",
        "             val_split=.3\n",
        "             ):\n",
        "  \"\"\"\n",
        "  Trains the model according to the parameters given by the user.\n",
        "  outputs: model,history\n",
        "  \"\"\"\n",
        "\n",
        "  history = model.fit(\n",
        "    train_images, \n",
        "    train_labels, \n",
        "    epochs = epochs, \n",
        "    batch_size = batch_size,\n",
        "    validation_split = val_split\n",
        "    )\n",
        "    \n",
        "  return model, history "
      ],
      "metadata": {
        "id": "1Vzap-vYt4Da"
      },
      "execution_count": null,
      "outputs": []
    },
    {
      "cell_type": "code",
      "source": [
        "def test_model(\n",
        "    model,\n",
        "    test_images,\n",
        "    test_labels\n",
        "):\n",
        "  \"\"\"\n",
        "  Tests the accuracy and the loss of the model, outputs\n",
        "  test_loss,test_acc\n",
        "  \"\"\"\n",
        "    \n",
        "  test_loss, test_acc = model.evaluate(\n",
        "      test_images, \n",
        "      test_labels\n",
        "  )\n",
        "    \n",
        "  return test_loss, test_acc"
      ],
      "metadata": {
        "id": "gWQWxMleuKun"
      },
      "execution_count": null,
      "outputs": []
    },
    {
      "cell_type": "code",
      "source": [
        "def plot_history(histories, run_index=0):\n",
        "  \n",
        "  try:\n",
        "    history=histories[run_index]\n",
        "  except:\n",
        "    history=histories\n",
        "    \n",
        "  acc = history.history['accuracy']\n",
        "  loss = history.history['loss']\n",
        "  val_acc = history.history['val_accuracy']\n",
        "  val_loss = history.history['val_loss']\n",
        "\n",
        "  epochs = range(len(acc))\n",
        "\n",
        "  plt.plot(epochs, loss, '-', label='Training loss')\n",
        "  plt.plot(epochs, val_loss, '-', label = \"Validation loss\")\n",
        "  plt.title('Training loss')\n",
        "  plt.legend()\n",
        "  plt.show()\n",
        "\n",
        "  plt.plot(epochs, acc, '-', label='Training acc')\n",
        "  plt.plot(epochs, val_acc, '-', label = \"validation acc\")\n",
        "  plt.title('Training accuracy')\n",
        "  plt.legend()\n",
        "  plt.figure()"
      ],
      "metadata": {
        "id": "CLfDgzDCRJma"
      },
      "execution_count": null,
      "outputs": []
    },
    {
      "cell_type": "code",
      "source": [
        "def tuning_activation(list_of_functions,layer_units,batch_size=[64],epochs=10):\n",
        "    rows = []\n",
        "    histories = []\n",
        "    batch_size = np.array(batch_size)\n",
        "    aux=np.array(list_of_functions)\n",
        "    if batch_size.shape[0]==1:\n",
        "      batch_size = np.repeat(batch_size, [aux.shape[0]], axis=0)\n",
        "\n",
        "    for num_of_experiments in range(aux.shape[0]):\n",
        "        model = DenseLearning(dense_units=[layer_units],act=list_of_functions[num_of_experiments])\n",
        "        current_params = default_params()\n",
        "\n",
        "        model, history = training(\n",
        "            model = model, \n",
        "            train_images = train_images_new, \n",
        "            train_labels = train_labels_new,\n",
        "            batch_size=batch_size[num_of_experiments],\n",
        "            epochs=epochs\n",
        "            )\n",
        "        current_params[\"batch_size\"]=batch_size[num_of_experiments]\n",
        "            \n",
        "        test_loss, test_acc = test_model(model, test_images_new, test_labels_new)\n",
        "\n",
        "        # update the parameter we're tuning \n",
        "        current_params[\"dense_units\"] = layer_units\n",
        "        # input results to save to df\n",
        "        current_params[\"test_acc\"] = test_acc\n",
        "        current_params[\"val_acc\"] = history.history[\"val_accuracy\"][-1]\n",
        "        current_params[\"train_acc\"] = history.history[\"accuracy\"][-1]\n",
        "        current_params[\"test_loss\"] = test_loss\n",
        "        current_params[\"val_loss\"] = history.history[\"val_loss\"][-1]\n",
        "        current_params[\"train_loss\"] = history.history[\"loss\"][-1]\n",
        "        current_params[\"activation\"]=list_of_functions[num_of_experiments]\n",
        "\n",
        "        \n",
        "        rows.append(current_params)\n",
        "        histories.append(history)\n",
        "        \n",
        "        print(\"Test loss: {:.4f}\".format(test_loss))\n",
        "        print(\"Test accuracy: {:.4f}\".format(test_acc))\n",
        "        print(\"\\n\")\n",
        "        \n",
        "    return rows, histories"
      ],
      "metadata": {
        "id": "NS6Tj33zMXS1"
      },
      "execution_count": null,
      "outputs": []
    },
    {
      "cell_type": "code",
      "source": [
        "def tuning_layerunits(list_of_Units,batch_size=[64],epochs=10):\n",
        "    rows = []\n",
        "    histories = []\n",
        "    batch_size = np.array(batch_size)\n",
        "    aux=np.array(list_of_Units)\n",
        "    if batch_size.shape[0]==1:\n",
        "      x = batch_size = np.repeat(batch_size, [aux.shape[0]], axis=0)\n",
        "\n",
        "    for num_of_experiments in range(aux.shape[0]):\n",
        "        model = DenseLearning(list_of_Units[num_of_experiments])\n",
        "        current_params = default_params()\n",
        "\n",
        "        model, history = training(\n",
        "            model = model, \n",
        "            train_images = train_images_new, \n",
        "            train_labels = train_labels_new,\n",
        "            batch_size=batch_size[num_of_experiments],\n",
        "            epochs=epochs\n",
        "            )\n",
        "        current_params[\"batch_size\"]=batch_size[num_of_experiments]\n",
        "            \n",
        "        test_loss, test_acc = test_model(model, test_images_new, test_labels_new)\n",
        "\n",
        "        # update the parameter we're tuning \n",
        "        current_params[\"dense_units\"] = list_of_Units[num_of_experiments]\n",
        "        # input results to save to df\n",
        "        current_params[\"test_acc\"] = test_acc\n",
        "        current_params[\"val_acc\"] = history.history[\"val_accuracy\"][-1]\n",
        "        current_params[\"train_acc\"] = history.history[\"accuracy\"][-1]\n",
        "        current_params[\"test_loss\"] = test_loss\n",
        "        current_params[\"val_loss\"] = history.history[\"val_loss\"][-1]\n",
        "        current_params[\"train_loss\"] = history.history[\"loss\"][-1]\n",
        "\n",
        "        \n",
        "        rows.append(current_params)\n",
        "        histories.append(history)\n",
        "        \n",
        "        print(\"Test loss: {:.4f}\".format(test_loss))\n",
        "        print(\"Test accuracy: {:.4f}\".format(test_acc))\n",
        "        print(\"\\n\")\n",
        "        \n",
        "    return rows, histories"
      ],
      "metadata": {
        "id": "wJr8YnXKMYLo"
      },
      "execution_count": null,
      "outputs": []
    },
    {
      "cell_type": "code",
      "source": [
        "model_2 = DenseLearning([400],act=\"relu\",dropout=[0.2])"
      ],
      "metadata": {
        "id": "qz0EUxzouWax"
      },
      "execution_count": null,
      "outputs": []
    },
    {
      "cell_type": "code",
      "source": [
        "model_2.summary() "
      ],
      "metadata": {
        "colab": {
          "base_uri": "https://localhost:8080/"
        },
        "id": "ZekpeuvNBJlJ",
        "outputId": "3025ab2e-2ff9-4c63-dd33-98ab4f7507d6"
      },
      "execution_count": null,
      "outputs": [
        {
          "output_type": "stream",
          "name": "stdout",
          "text": [
            "Model: \"sequential_6\"\n",
            "_________________________________________________________________\n",
            " Layer (type)                Output Shape              Param #   \n",
            "=================================================================\n",
            " dense_12 (Dense)            (None, 400)               3200      \n",
            "                                                                 \n",
            " dropout_6 (Dropout)         (None, 400)               0         \n",
            "                                                                 \n",
            " dense_13 (Dense)            (None, 1)                 401       \n",
            "                                                                 \n",
            "=================================================================\n",
            "Total params: 3,601\n",
            "Trainable params: 3,601\n",
            "Non-trainable params: 0\n",
            "_________________________________________________________________\n"
          ]
        }
      ]
    },
    {
      "cell_type": "code",
      "source": [
        "model_2,hist_2 = training(model_2,X_train,y_train,epochs=20,batch_size=2048)"
      ],
      "metadata": {
        "colab": {
          "base_uri": "https://localhost:8080/"
        },
        "id": "65MAwtrywXRB",
        "outputId": "aff5a5a0-f2ec-4bf5-c72d-e0eea4f50a2e"
      },
      "execution_count": null,
      "outputs": [
        {
          "output_type": "stream",
          "name": "stdout",
          "text": [
            "Epoch 1/20\n",
            "1417/1417 [==============================] - 73s 5ms/step - loss: 0.1429 - accuracy: 0.9470 - val_loss: 0.0814 - val_accuracy: 0.9756\n",
            "Epoch 2/20\n",
            "1417/1417 [==============================] - 5s 4ms/step - loss: 0.0706 - accuracy: 0.9791 - val_loss: 0.0571 - val_accuracy: 0.9839\n",
            "Epoch 3/20\n",
            "1417/1417 [==============================] - 7s 5ms/step - loss: 0.0523 - accuracy: 0.9850 - val_loss: 0.0441 - val_accuracy: 0.9875\n",
            "Epoch 4/20\n",
            "1417/1417 [==============================] - 6s 4ms/step - loss: 0.0426 - accuracy: 0.9879 - val_loss: 0.0378 - val_accuracy: 0.9891\n",
            "Epoch 5/20\n",
            "1417/1417 [==============================] - 7s 5ms/step - loss: 0.0372 - accuracy: 0.9896 - val_loss: 0.0333 - val_accuracy: 0.9902\n",
            "Epoch 6/20\n",
            "1417/1417 [==============================] - 6s 4ms/step - loss: 0.0332 - accuracy: 0.9908 - val_loss: 0.0295 - val_accuracy: 0.9916\n",
            "Epoch 7/20\n",
            "1417/1417 [==============================] - 6s 4ms/step - loss: 0.0304 - accuracy: 0.9917 - val_loss: 0.0287 - val_accuracy: 0.9923\n",
            "Epoch 8/20\n",
            "1417/1417 [==============================] - 6s 4ms/step - loss: 0.0283 - accuracy: 0.9924 - val_loss: 0.0259 - val_accuracy: 0.9926\n",
            "Epoch 9/20\n",
            "1417/1417 [==============================] - 6s 4ms/step - loss: 0.0264 - accuracy: 0.9929 - val_loss: 0.0242 - val_accuracy: 0.9932\n",
            "Epoch 10/20\n",
            "1417/1417 [==============================] - 6s 5ms/step - loss: 0.0252 - accuracy: 0.9933 - val_loss: 0.0234 - val_accuracy: 0.9933\n",
            "Epoch 11/20\n",
            "1417/1417 [==============================] - 6s 4ms/step - loss: 0.0240 - accuracy: 0.9937 - val_loss: 0.0220 - val_accuracy: 0.9942\n",
            "Epoch 12/20\n",
            "1417/1417 [==============================] - 7s 5ms/step - loss: 0.0231 - accuracy: 0.9940 - val_loss: 0.0212 - val_accuracy: 0.9947\n",
            "Epoch 13/20\n",
            "1417/1417 [==============================] - 6s 4ms/step - loss: 0.0223 - accuracy: 0.9942 - val_loss: 0.0212 - val_accuracy: 0.9941\n",
            "Epoch 14/20\n",
            "1417/1417 [==============================] - 7s 5ms/step - loss: 0.0216 - accuracy: 0.9944 - val_loss: 0.0204 - val_accuracy: 0.9941\n",
            "Epoch 15/20\n",
            "1417/1417 [==============================] - 6s 4ms/step - loss: 0.0210 - accuracy: 0.9946 - val_loss: 0.0202 - val_accuracy: 0.9945\n",
            "Epoch 16/20\n",
            "1417/1417 [==============================] - 7s 5ms/step - loss: 0.0209 - accuracy: 0.9946 - val_loss: 0.0196 - val_accuracy: 0.9948\n",
            "Epoch 17/20\n",
            "1417/1417 [==============================] - 6s 4ms/step - loss: 0.0200 - accuracy: 0.9948 - val_loss: 0.0193 - val_accuracy: 0.9947\n",
            "Epoch 18/20\n",
            "1417/1417 [==============================] - 6s 4ms/step - loss: 0.0199 - accuracy: 0.9949 - val_loss: 0.0182 - val_accuracy: 0.9952\n",
            "Epoch 19/20\n",
            "1417/1417 [==============================] - 6s 4ms/step - loss: 0.0194 - accuracy: 0.9950 - val_loss: 0.0180 - val_accuracy: 0.9952\n",
            "Epoch 20/20\n",
            "1417/1417 [==============================] - 7s 5ms/step - loss: 0.0190 - accuracy: 0.9951 - val_loss: 0.0179 - val_accuracy: 0.9955\n"
          ]
        }
      ]
    },
    {
      "cell_type": "code",
      "source": [
        "plot_history(hist_2)"
      ],
      "metadata": {
        "colab": {
          "base_uri": "https://localhost:8080/",
          "height": 905
        },
        "id": "SPTyxabBRU3N",
        "outputId": "ed1f7d95-df50-4a2b-c51a-b3de93afbd91"
      },
      "execution_count": null,
      "outputs": [
        {
          "output_type": "display_data",
          "data": {
            "text/plain": [
              "<Figure size 640x480 with 1 Axes>"
            ],
            "image/png": "[encoded data removed]"
          },
          "metadata": {}
        },
        {
          "output_type": "display_data",
          "data": {
            "text/plain": [
              "<Figure size 640x480 with 1 Axes>"
            ],
            "image/png": "[encoded data removed]"
          },
          "metadata": {}
        },
        {
          "output_type": "display_data",
          "data": {
            "text/plain": [
              "<Figure size 640x480 with 0 Axes>"
            ]
          },
          "metadata": {}
        }
      ]
    },
    {
      "cell_type": "code",
      "source": [
        "test_model(model_2,X_test,y_test)"
      ],
      "metadata": {
        "colab": {
          "base_uri": "https://localhost:8080/"
        },
        "id": "MpAlC6jXxBqY",
        "outputId": "54ee9f0c-a622-48e1-d3cb-019ad66094ad"
      },
      "execution_count": null,
      "outputs": [
        {
          "output_type": "stream",
          "name": "stdout",
          "text": [
            "43160/43160 [==============================] - 98s 2ms/step - loss: 0.0177 - accuracy: 0.9956\n"
          ]
        },
        {
          "output_type": "execute_result",
          "data": {
            "text/plain": [
              "(0.017692774534225464, 0.995570182800293)"
            ]
          },
          "metadata": {},
          "execution_count": 71
        }
      ]
    }
  ]
}